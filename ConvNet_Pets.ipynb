{
 "cells": [
  {
   "cell_type": "code",
   "execution_count": 1,
   "metadata": {},
   "outputs": [
    {
     "name": "stdout",
     "output_type": "stream",
     "text": [
      "Epoch 1/10\n",
      "702/702 [==============================] - 43s 60ms/step - loss: 0.6325 - accuracy: 0.6386 - val_loss: 0.5467 - val_accuracy: 0.7307\n",
      "Epoch 2/10\n",
      "702/702 [==============================] - 42s 59ms/step - loss: 0.5458 - accuracy: 0.7238 - val_loss: 0.5424 - val_accuracy: 0.7303\n",
      "Epoch 3/10\n",
      "702/702 [==============================] - 40s 57ms/step - loss: 0.5133 - accuracy: 0.7514 - val_loss: 0.4762 - val_accuracy: 0.7703\n",
      "Epoch 4/10\n",
      "702/702 [==============================] - 40s 57ms/step - loss: 0.4882 - accuracy: 0.7689 - val_loss: 0.4888 - val_accuracy: 0.7699\n",
      "Epoch 5/10\n",
      "702/702 [==============================] - 40s 57ms/step - loss: 0.4682 - accuracy: 0.7797 - val_loss: 0.4564 - val_accuracy: 0.7872\n",
      "Epoch 6/10\n",
      "702/702 [==============================] - 40s 57ms/step - loss: 0.4522 - accuracy: 0.7895 - val_loss: 0.4627 - val_accuracy: 0.7944\n",
      "Epoch 7/10\n",
      "702/702 [==============================] - 40s 57ms/step - loss: 0.4375 - accuracy: 0.7983 - val_loss: 0.4279 - val_accuracy: 0.8084\n",
      "Epoch 8/10\n",
      "702/702 [==============================] - 40s 58ms/step - loss: 0.4184 - accuracy: 0.8072 - val_loss: 0.4413 - val_accuracy: 0.7940\n",
      "Epoch 9/10\n",
      "702/702 [==============================] - 40s 57ms/step - loss: 0.4091 - accuracy: 0.8113 - val_loss: 0.4501 - val_accuracy: 0.7968\n",
      "Epoch 10/10\n",
      "702/702 [==============================] - 40s 57ms/step - loss: 0.4005 - accuracy: 0.8176 - val_loss: 0.4192 - val_accuracy: 0.8124\n"
     ]
    },
    {
     "data": {
      "text/plain": [
       "<keras.callbacks.History at 0x227049dff10>"
      ]
     },
     "execution_count": 1,
     "metadata": {},
     "output_type": "execute_result"
    }
   ],
   "source": [
    "import tensorflow as tf \n",
    "from tensorflow.keras.models import Sequential\n",
    "from tensorflow.keras.layers import Dense, Dropout, Activation, Flatten, Conv2D, MaxPooling2D\n",
    "from tensorflow.python.client import device_lib\n",
    "import numpy as np\n",
    "\n",
    "# print(device_lib.list_local_devices())\n",
    "# print(\"Num GPUs Available: \", len(tf.config.experimental.list_physical_devices('GPU')))\n",
    "\n",
    "X = np.load('Pet_features.npy')\n",
    "y = np.load('Pet_labels.npy')\n",
    "\n",
    "# normalize data, I think this means to make all the values in the tensor between 0-1\n",
    "# since its an image the highest pixel value can only be 255 hence why we divide it\n",
    "X = X/255.0\n",
    "\n",
    "model = Sequential()\n",
    "# 1st type of layer (64 units or 64 neurons)\n",
    "# 2nd kernel size (window size)\n",
    "# 3rd shape of image. In x it is represented as (X = np.array(X).reshape(-1, IMG_SIZE, IMG_SIZE, 1)) we use [1:] so skip the -1 and take everything after which is the 50X50 grey\n",
    "model.add(Conv2D(64,(3,3), input_shape = X.shape[1:]))\n",
    "model.add(Activation(\"relu\"))\n",
    "model.add(MaxPooling2D(pool_size=(2,2)))\n",
    "\n",
    "model.add(Conv2D(64,(3,3)))\n",
    "model.add(Activation(\"relu\"))\n",
    "model.add(MaxPooling2D(pool_size=(2,2)))\n",
    "\n",
    "# final layer takes in flatten image\n",
    "model.add(Flatten())\n",
    "model.add(Dense(64))\n",
    "\n",
    "# output layer\n",
    "model.add(Dense(1))\n",
    "model.add(Activation(\"sigmoid\"))\n",
    "\n",
    "model.compile(loss=\"binary_crossentropy\", optimizer='adam', metrics=['accuracy'])\n",
    "\n",
    "# how much data we passing in at once\n",
    "model.fit(X, y, batch_size = 32, epochs=10, validation_split = 0.1)\n",
    "\n"
   ]
  }
 ],
 "metadata": {
  "interpreter": {
   "hash": "dcacb0086e9a4f4eabd41c33bf4faac5ea0a3337ed3f5eff0680afa930572c04"
  },
  "kernelspec": {
   "display_name": "Python 3.8.2 64-bit",
   "language": "python",
   "name": "python3"
  },
  "language_info": {
   "codemirror_mode": {
    "name": "ipython",
    "version": 3
   },
   "file_extension": ".py",
   "mimetype": "text/x-python",
   "name": "python",
   "nbconvert_exporter": "python",
   "pygments_lexer": "ipython3",
   "version": "3.9.1"
  },
  "orig_nbformat": 2
 },
 "nbformat": 4,
 "nbformat_minor": 2
}
